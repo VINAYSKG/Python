{
  "nbformat": 4,
  "nbformat_minor": 0,
  "metadata": {
    "colab": {
      "provenance": [],
      "authorship_tag": "ABX9TyOfAR/c3nPZXOs7u6bzJKAP",
      "include_colab_link": true
    },
    "kernelspec": {
      "name": "python3",
      "display_name": "Python 3"
    },
    "language_info": {
      "name": "python"
    }
  },
  "cells": [
    {
      "cell_type": "markdown",
      "metadata": {
        "id": "view-in-github",
        "colab_type": "text"
      },
      "source": [
        "<a href=\"https://colab.research.google.com/github/VINAYSKG/Python/blob/main/Loops.ipynb\" target=\"_parent\"><img src=\"https://colab.research.google.com/assets/colab-badge.svg\" alt=\"Open In Colab\"/></a>"
      ]
    },
    {
      "cell_type": "code",
      "execution_count": null,
      "metadata": {
        "colab": {
          "base_uri": "https://localhost:8080/"
        },
        "id": "rnWvAZwkARWX",
        "outputId": "78bb9dd4-6abc-4e46-942e-f40652399363"
      },
      "outputs": [
        {
          "output_type": "stream",
          "name": "stdout",
          "text": [
            "Vinay\n",
            "Vinay\n",
            "Vinay\n",
            "Vinay\n",
            "Vinay\n"
          ]
        }
      ],
      "source": [
        "i= 1\n",
        "while i<=5:\n",
        "  print(\"Vinay\")\n",
        "  i+=1"
      ]
    },
    {
      "cell_type": "code",
      "source": [
        "i=5\n",
        "while i>=1:\n",
        "  print(\"Vinay\")\n",
        "  i-=1"
      ],
      "metadata": {
        "colab": {
          "base_uri": "https://localhost:8080/"
        },
        "id": "uEN4JzsEAVRo",
        "outputId": "1422c61f-cdef-48d1-fb8a-eb80590e882a"
      },
      "execution_count": null,
      "outputs": [
        {
          "output_type": "stream",
          "name": "stdout",
          "text": [
            "Vinay\n",
            "Vinay\n",
            "Vinay\n",
            "Vinay\n",
            "Vinay\n"
          ]
        }
      ]
    },
    {
      "cell_type": "code",
      "source": [
        "i=1\n",
        "while i<=5:\n",
        "  print(i)\n",
        "  i+=1"
      ],
      "metadata": {
        "colab": {
          "base_uri": "https://localhost:8080/"
        },
        "id": "gAW6Z_HcAVUq",
        "outputId": "baea8065-5da1-45ae-83c3-625732988dc1"
      },
      "execution_count": null,
      "outputs": [
        {
          "output_type": "stream",
          "name": "stdout",
          "text": [
            "1\n",
            "2\n",
            "3\n",
            "4\n",
            "5\n"
          ]
        }
      ]
    },
    {
      "cell_type": "code",
      "source": [
        "i=5\n",
        "while i>=1:\n",
        "  print(i)\n",
        "  i-=1"
      ],
      "metadata": {
        "colab": {
          "base_uri": "https://localhost:8080/"
        },
        "id": "Y-MO8tZ_AVYB",
        "outputId": "2cda1214-09ff-4d1a-fc29-573ba1cc9df8"
      },
      "execution_count": null,
      "outputs": [
        {
          "output_type": "stream",
          "name": "stdout",
          "text": [
            "5\n",
            "4\n",
            "3\n",
            "2\n",
            "1\n"
          ]
        }
      ]
    },
    {
      "cell_type": "code",
      "source": [
        "i=2\n",
        "while i<=20:\n",
        "  print(i)\n",
        "  i+=2"
      ],
      "metadata": {
        "colab": {
          "base_uri": "https://localhost:8080/"
        },
        "id": "lmmrXj2eAVdB",
        "outputId": "69e81727-a79e-471a-a845-bc0d4e4b4bd1"
      },
      "execution_count": null,
      "outputs": [
        {
          "output_type": "stream",
          "name": "stdout",
          "text": [
            "2\n",
            "4\n",
            "6\n",
            "8\n",
            "10\n",
            "12\n",
            "14\n",
            "16\n",
            "18\n",
            "20\n"
          ]
        }
      ]
    },
    {
      "cell_type": "code",
      "source": [
        "num=int(input(\"Enter a number: \"))\n",
        "i=1\n",
        "while i<=10:\n",
        "  print(i*num)\n",
        "  i+=1"
      ],
      "metadata": {
        "colab": {
          "base_uri": "https://localhost:8080/"
        },
        "id": "eDZVxFvfAVf5",
        "outputId": "589f797f-f87a-4f4c-a6ca-fafd62c5e449"
      },
      "execution_count": null,
      "outputs": [
        {
          "output_type": "stream",
          "name": "stdout",
          "text": [
            "Enter a number: 2\n",
            "2\n",
            "4\n",
            "6\n",
            "8\n",
            "10\n",
            "12\n",
            "14\n",
            "16\n",
            "18\n",
            "20\n"
          ]
        }
      ]
    },
    {
      "cell_type": "code",
      "source": [
        "i=1\n",
        "while i<=10:\n",
        "  if i % 2==0:\n",
        "    print(f\"{i} is an even number\")\n",
        "  else:\n",
        "    print(f\"{i} is an odd number\")\n",
        "  i+=1"
      ],
      "metadata": {
        "colab": {
          "base_uri": "https://localhost:8080/"
        },
        "id": "2M6zQ7gUAViv",
        "outputId": "b77536a4-1a14-410d-9e5a-4506d64f539c"
      },
      "execution_count": null,
      "outputs": [
        {
          "output_type": "stream",
          "name": "stdout",
          "text": [
            "1 is an odd number\n",
            "2 is an even number\n",
            "3 is an odd number\n",
            "4 is an even number\n",
            "5 is an odd number\n",
            "6 is an even number\n",
            "7 is an odd number\n",
            "8 is an even number\n",
            "9 is an odd number\n",
            "10 is an even number\n"
          ]
        }
      ]
    },
    {
      "cell_type": "code",
      "source": [
        "#for Loop\n",
        "for i in range(5):\n",
        "  print (\"Vinay\")"
      ],
      "metadata": {
        "id": "AWLquguEAVls",
        "colab": {
          "base_uri": "https://localhost:8080/"
        },
        "outputId": "8b79386e-aed2-4618-d05e-0ed3e84bccc3"
      },
      "execution_count": null,
      "outputs": [
        {
          "output_type": "stream",
          "name": "stdout",
          "text": [
            "Vinay\n",
            "Vinay\n",
            "Vinay\n",
            "Vinay\n",
            "Vinay\n"
          ]
        }
      ]
    },
    {
      "cell_type": "code",
      "source": [
        "a12= int(input(\"enter a number\"))\n",
        "for i in range(1,11):\n",
        "  print (i*a12)"
      ],
      "metadata": {
        "id": "vZF8h4gmAVoj",
        "colab": {
          "base_uri": "https://localhost:8080/"
        },
        "outputId": "8caced4e-a61e-4459-d69a-f3be2583a415"
      },
      "execution_count": null,
      "outputs": [
        {
          "output_type": "stream",
          "name": "stdout",
          "text": [
            "enter a number2\n",
            "2\n",
            "4\n",
            "6\n",
            "8\n",
            "10\n",
            "12\n",
            "14\n",
            "16\n",
            "18\n",
            "20\n"
          ]
        }
      ]
    },
    {
      "cell_type": "code",
      "source": [
        "for i in range(1,11):\n",
        "  if i%2==0:\n",
        "    print(i,\"even number\")\n",
        "  else:\n",
        "    print(i,\"odd number\")"
      ],
      "metadata": {
        "id": "erNc5Xv2AVrf",
        "colab": {
          "base_uri": "https://localhost:8080/"
        },
        "outputId": "a5e12edb-35f5-4565-80a0-e6dec65b788e"
      },
      "execution_count": null,
      "outputs": [
        {
          "output_type": "stream",
          "name": "stdout",
          "text": [
            "1 odd number\n",
            "2 even number\n",
            "3 odd number\n",
            "4 even number\n",
            "5 odd number\n",
            "6 even number\n",
            "7 odd number\n",
            "8 even number\n",
            "9 odd number\n",
            "10 even number\n"
          ]
        }
      ]
    },
    {
      "cell_type": "code",
      "source": [
        "#for loop\n",
        "a1=0\n",
        "b1=0\n",
        "for i in range(1,11):\n",
        "  if i%2==0:\n",
        "   a1+=1\n",
        "  else:\n",
        "   b1+=1\n",
        "print(f\"count of {a1} even number\")\n",
        "print(f\"count of {b1} odd number\")"
      ],
      "metadata": {
        "id": "-ldNG_VnAVue",
        "colab": {
          "base_uri": "https://localhost:8080/"
        },
        "outputId": "39ee6111-0536-4037-818c-8fb103345786"
      },
      "execution_count": null,
      "outputs": [
        {
          "output_type": "stream",
          "name": "stdout",
          "text": [
            "count of 5 even number\n",
            "count of 5 odd number\n"
          ]
        }
      ]
    },
    {
      "cell_type": "code",
      "source": [
        "#for loop(break)\n",
        "for i in range(7):\n",
        "  if i==4:\n",
        "    break\n",
        "  print(i)"
      ],
      "metadata": {
        "colab": {
          "base_uri": "https://localhost:8080/"
        },
        "id": "pxNMn_hsQhhl",
        "outputId": "94cbdd7e-1be3-4d58-8efe-5987210c4eb1"
      },
      "execution_count": null,
      "outputs": [
        {
          "output_type": "stream",
          "name": "stdout",
          "text": [
            "0\n",
            "1\n",
            "2\n",
            "3\n"
          ]
        }
      ]
    },
    {
      "cell_type": "code",
      "source": [
        "#while loop (break)\n",
        "i=0\n",
        "while i<7:\n",
        "  if i==4:\n",
        "    break\n",
        "  print(i)\n",
        "  i+=1"
      ],
      "metadata": {
        "colab": {
          "base_uri": "https://localhost:8080/"
        },
        "id": "t53SuAtFQh1o",
        "outputId": "50945a91-07bf-4e7e-e902-083a6ac2ac12"
      },
      "execution_count": null,
      "outputs": [
        {
          "output_type": "stream",
          "name": "stdout",
          "text": [
            "0\n",
            "1\n",
            "2\n",
            "3\n"
          ]
        }
      ]
    },
    {
      "cell_type": "code",
      "source": [
        "#for loop(continue)\n",
        "for i in range(7):\n",
        "  if i==4:\n",
        "    continue\n",
        "  print(i)"
      ],
      "metadata": {
        "colab": {
          "base_uri": "https://localhost:8080/"
        },
        "id": "vhIsehWNQiBE",
        "outputId": "08a039ee-d743-4ac6-de45-83651996decd"
      },
      "execution_count": null,
      "outputs": [
        {
          "output_type": "stream",
          "name": "stdout",
          "text": [
            "0\n",
            "1\n",
            "2\n",
            "3\n",
            "5\n",
            "6\n"
          ]
        }
      ]
    },
    {
      "cell_type": "code",
      "source": [
        "#while loop (continue)\n",
        "i=0\n",
        "while i<7:\n",
        "  if i==4:\n",
        "   i+=1\n",
        "   continue\n",
        "  print(i)\n",
        "  i+=1"
      ],
      "metadata": {
        "colab": {
          "base_uri": "https://localhost:8080/"
        },
        "id": "7uKb2LjfQiEf",
        "outputId": "ae029e1e-0e25-4ad7-a84b-e7cf1ed1d5e6"
      },
      "execution_count": null,
      "outputs": [
        {
          "output_type": "stream",
          "name": "stdout",
          "text": [
            "0\n",
            "1\n",
            "2\n",
            "3\n",
            "5\n",
            "6\n"
          ]
        }
      ]
    },
    {
      "cell_type": "code",
      "source": [
        "#for loop(pass)\n",
        "for i in range(7):\n",
        "  if i==3:\n",
        "    pass\n",
        "  print(i)"
      ],
      "metadata": {
        "colab": {
          "base_uri": "https://localhost:8080/"
        },
        "id": "YJcB4LE2QiH4",
        "outputId": "5a73e80e-8f93-423a-cb0e-44da02b70660"
      },
      "execution_count": null,
      "outputs": [
        {
          "output_type": "stream",
          "name": "stdout",
          "text": [
            "0\n",
            "1\n",
            "2\n",
            "3\n",
            "4\n",
            "5\n",
            "6\n"
          ]
        }
      ]
    },
    {
      "cell_type": "code",
      "source": [
        "# for loop even number\n",
        "for i in range(1,21):\n",
        "  if i%2==0:\n",
        "    continue\n",
        "  else:\n",
        "    print(i)"
      ],
      "metadata": {
        "colab": {
          "base_uri": "https://localhost:8080/"
        },
        "id": "REdI6q99KuUs",
        "outputId": "3b9f8e97-a0e3-4dfa-c8ff-d3cec047217a"
      },
      "execution_count": null,
      "outputs": [
        {
          "output_type": "stream",
          "name": "stdout",
          "text": [
            "1\n",
            "3\n",
            "5\n",
            "7\n",
            "9\n",
            "11\n",
            "13\n",
            "15\n",
            "17\n",
            "19\n"
          ]
        }
      ]
    },
    {
      "cell_type": "code",
      "source": [
        "# for loop prime number\n",
        "for num in range(2, 21):\n",
        "    if num > 1:\n",
        "        for i in range(2, num):\n",
        "            if num % i == 0:\n",
        "                break\n",
        "        else:\n",
        "            print(num)"
      ],
      "metadata": {
        "id": "aemttL3oKuX_",
        "colab": {
          "base_uri": "https://localhost:8080/"
        },
        "outputId": "dfe60096-60d4-407b-db32-97c816b68cc8"
      },
      "execution_count": null,
      "outputs": [
        {
          "output_type": "stream",
          "name": "stdout",
          "text": [
            "2\n",
            "3\n",
            "5\n",
            "7\n",
            "11\n",
            "13\n",
            "17\n",
            "19\n"
          ]
        }
      ]
    },
    {
      "cell_type": "code",
      "source": [
        "a=0\n",
        "for i in range (1,11):\n",
        "  a+=i\n",
        "  print(f\"{a} total sum\")"
      ],
      "metadata": {
        "colab": {
          "base_uri": "https://localhost:8080/"
        },
        "id": "sttUnRvAKubR",
        "outputId": "a7e27f61-62f9-41cb-bbfd-db270e967f35"
      },
      "execution_count": null,
      "outputs": [
        {
          "output_type": "stream",
          "name": "stdout",
          "text": [
            "1 total sum\n",
            "3 total sum\n",
            "6 total sum\n",
            "10 total sum\n",
            "15 total sum\n",
            "21 total sum\n",
            "28 total sum\n",
            "36 total sum\n",
            "45 total sum\n",
            "55 total sum\n"
          ]
        }
      ]
    },
    {
      "cell_type": "code",
      "source": [
        "a=0\n",
        "i=1\n",
        "while i <=10:\n",
        "  a+=i\n",
        "  i+=1\n",
        "  print(f\"{a} total_sum\")"
      ],
      "metadata": {
        "colab": {
          "base_uri": "https://localhost:8080/"
        },
        "id": "abnfe0pTKujb",
        "outputId": "9b559103-1c61-4692-a036-9ab486eea928"
      },
      "execution_count": null,
      "outputs": [
        {
          "output_type": "stream",
          "name": "stdout",
          "text": [
            "1 total_sum\n",
            "3 total_sum\n",
            "6 total_sum\n",
            "10 total_sum\n",
            "15 total_sum\n",
            "21 total_sum\n",
            "28 total_sum\n",
            "36 total_sum\n",
            "45 total_sum\n",
            "55 total_sum\n"
          ]
        }
      ]
    },
    {
      "cell_type": "code",
      "source": [
        "#Nested Loop\n",
        "for i in range (3):\n",
        "  for j in range(2):\n",
        "    print(i,j)\n",
        "    #print(f'i={i}, j={j}')"
      ],
      "metadata": {
        "colab": {
          "base_uri": "https://localhost:8080/"
        },
        "id": "LoWn60zmKumy",
        "outputId": "bd122b9f-b5d8-4854-c139-130f9cba81d4"
      },
      "execution_count": null,
      "outputs": [
        {
          "output_type": "stream",
          "name": "stdout",
          "text": [
            "0 0\n",
            "0 1\n",
            "1 0\n",
            "1 1\n",
            "2 0\n",
            "2 1\n"
          ]
        }
      ]
    },
    {
      "cell_type": "code",
      "source": [
        "#Nested Loop 1 to 5 Table\n",
        "for i in range (1,6):\n",
        "  for j in range(1,11):\n",
        "    print(i*j)"
      ],
      "metadata": {
        "colab": {
          "base_uri": "https://localhost:8080/"
        },
        "id": "s_gnxxWlKu0K",
        "outputId": "0c251284-7581-494a-fe05-bf55aac66f84"
      },
      "execution_count": null,
      "outputs": [
        {
          "output_type": "stream",
          "name": "stdout",
          "text": [
            "1\n",
            "2\n",
            "3\n",
            "4\n",
            "5\n",
            "6\n",
            "7\n",
            "8\n",
            "9\n",
            "10\n",
            "2\n",
            "4\n",
            "6\n",
            "8\n",
            "10\n",
            "12\n",
            "14\n",
            "16\n",
            "18\n",
            "20\n",
            "3\n",
            "6\n",
            "9\n",
            "12\n",
            "15\n",
            "18\n",
            "21\n",
            "24\n",
            "27\n",
            "30\n",
            "4\n",
            "8\n",
            "12\n",
            "16\n",
            "20\n",
            "24\n",
            "28\n",
            "32\n",
            "36\n",
            "40\n",
            "5\n",
            "10\n",
            "15\n",
            "20\n",
            "25\n",
            "30\n",
            "35\n",
            "40\n",
            "45\n",
            "50\n"
          ]
        }
      ]
    },
    {
      "cell_type": "code",
      "source": [],
      "metadata": {
        "id": "4uNDJzSTaAUM"
      },
      "execution_count": null,
      "outputs": []
    },
    {
      "cell_type": "code",
      "source": [],
      "metadata": {
        "id": "JSWFq1SqaAyj"
      },
      "execution_count": null,
      "outputs": []
    },
    {
      "cell_type": "code",
      "source": [],
      "metadata": {
        "id": "dQQLc5JyaA1U"
      },
      "execution_count": null,
      "outputs": []
    },
    {
      "cell_type": "code",
      "source": [],
      "metadata": {
        "id": "mh7WH8thaA4I"
      },
      "execution_count": null,
      "outputs": []
    },
    {
      "cell_type": "code",
      "source": [],
      "metadata": {
        "id": "C5VWm5IBaA68"
      },
      "execution_count": null,
      "outputs": []
    },
    {
      "cell_type": "code",
      "source": [],
      "metadata": {
        "id": "fXbh3VX3aA-T"
      },
      "execution_count": null,
      "outputs": []
    },
    {
      "cell_type": "code",
      "source": [],
      "metadata": {
        "id": "8a2ZYAOtaBHB"
      },
      "execution_count": null,
      "outputs": []
    },
    {
      "cell_type": "code",
      "source": [],
      "metadata": {
        "id": "tBmFebwNaBKZ"
      },
      "execution_count": null,
      "outputs": []
    }
  ]
}