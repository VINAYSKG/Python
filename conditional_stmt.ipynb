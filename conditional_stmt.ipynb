{
  "nbformat": 4,
  "nbformat_minor": 0,
  "metadata": {
    "colab": {
      "provenance": [],
      "authorship_tag": "ABX9TyNtYiByq4sGquYIgcDOpyqE",
      "include_colab_link": true
    },
    "kernelspec": {
      "name": "python3",
      "display_name": "Python 3"
    },
    "language_info": {
      "name": "python"
    }
  },
  "cells": [
    {
      "cell_type": "markdown",
      "metadata": {
        "id": "view-in-github",
        "colab_type": "text"
      },
      "source": [
        "<a href=\"https://colab.research.google.com/github/VINAYSKG/Python/blob/main/conditional_stmt.ipynb\" target=\"_parent\"><img src=\"https://colab.research.google.com/assets/colab-badge.svg\" alt=\"Open In Colab\"/></a>"
      ]
    },
    {
      "cell_type": "code",
      "execution_count": null,
      "metadata": {
        "colab": {
          "base_uri": "https://localhost:8080/"
        },
        "id": "ROgiYc6m7E_h",
        "outputId": "d6ffe442-ebdd-42fb-d34f-838eba759cc7"
      },
      "outputs": [
        {
          "output_type": "stream",
          "name": "stdout",
          "text": [
            "age is not greater than 18\n"
          ]
        }
      ],
      "source": [
        "age = 2\n",
        "if age >= 18:\n",
        "  print(\"age is greater than 18\")\n",
        "else:\n",
        "  print(\"age is not greater than 18\")"
      ]
    },
    {
      "cell_type": "code",
      "source": [
        "a=int(input(\"enter you age: \"))\n",
        "if a >= 18:\n",
        "  print(\"age is greater than 18\")\n",
        "else:\n",
        "  print(\"age is not greater than 18\")"
      ],
      "metadata": {
        "colab": {
          "base_uri": "https://localhost:8080/"
        },
        "id": "jtfuNwDp9Ndv",
        "outputId": "534a9835-8924-4a7b-9ce3-2c76be7f2038"
      },
      "execution_count": null,
      "outputs": [
        {
          "output_type": "stream",
          "name": "stdout",
          "text": [
            "enter you age: 23\n",
            "age is greater than 18\n"
          ]
        }
      ]
    },
    {
      "cell_type": "code",
      "source": [
        "b=int(input(\"enter you age: \"))\n",
        "if b <= 12:\n",
        "  print(\"travel for free\")\n",
        "else:\n",
        "  print(\"pay for ticket\")"
      ],
      "metadata": {
        "colab": {
          "base_uri": "https://localhost:8080/"
        },
        "id": "nqj9iovI9Ngs",
        "outputId": "e02c9932-66d3-4715-f92f-c7021948084c"
      },
      "execution_count": null,
      "outputs": [
        {
          "output_type": "stream",
          "name": "stdout",
          "text": [
            "enter you age: 11\n",
            "travel for free\n"
          ]
        }
      ]
    },
    {
      "cell_type": "code",
      "source": [
        "A = input(\"enter your name: \")\n",
        "if A == \"vinay\":\n",
        "  print(\"yes\")\n",
        "else:\n",
        "  print(\"no\")"
      ],
      "metadata": {
        "colab": {
          "base_uri": "https://localhost:8080/"
        },
        "id": "T19uNf9b9Njk",
        "outputId": "fdf01f91-89c9-40af-b724-30f927e4bf4d"
      },
      "execution_count": null,
      "outputs": [
        {
          "output_type": "stream",
          "name": "stdout",
          "text": [
            "enter your name: vinay\n",
            "yes\n"
          ]
        }
      ]
    },
    {
      "cell_type": "code",
      "source": [
        "#ternary operator or short hand condition\n",
        "marks = int(input(\"enter your marks: \"))\n",
        "res = \"pass\" if marks >=35 else \"fail\"\n",
        "print(res)"
      ],
      "metadata": {
        "colab": {
          "base_uri": "https://localhost:8080/"
        },
        "id": "edsRxnQ69Nm9",
        "outputId": "4c53a467-d517-455a-d5a1-b83acbfe57c6"
      },
      "execution_count": null,
      "outputs": [
        {
          "output_type": "stream",
          "name": "stdout",
          "text": [
            "enter your marks: 65\n",
            "pass\n"
          ]
        }
      ]
    },
    {
      "cell_type": "code",
      "source": [
        "#ternary operator or short hand condition\n",
        "age = int(input(\"enter your age: \"))\n",
        "res = \"adult\" if age >=18 else \"teenager\"\n",
        "print(res)"
      ],
      "metadata": {
        "colab": {
          "base_uri": "https://localhost:8080/"
        },
        "id": "Ak5Y_s3Z9Np8",
        "outputId": "2cb98897-4bf4-41eb-f511-2f3dc85518d0"
      },
      "execution_count": null,
      "outputs": [
        {
          "output_type": "stream",
          "name": "stdout",
          "text": [
            "enter your age: 19\n",
            "adult\n"
          ]
        }
      ]
    },
    {
      "cell_type": "code",
      "source": [
        "#ternary operator or short hand condition\n",
        "name = str(input(\"enter your name: \"))\n",
        "res = \"yes\" if name == \"vinay\" else \"no\"\n",
        "print(res)"
      ],
      "metadata": {
        "colab": {
          "base_uri": "https://localhost:8080/"
        },
        "id": "tiO5wkF79Ns3",
        "outputId": "9b2339d6-1a22-4dc5-88cd-6b40d0f70207"
      },
      "execution_count": null,
      "outputs": [
        {
          "output_type": "stream",
          "name": "stdout",
          "text": [
            "enter your name: vinay\n",
            "yes\n"
          ]
        }
      ]
    },
    {
      "cell_type": "code",
      "source": [
        "#elif used to handle multiple condition\n",
        "mark1=int(input(\"enter your marks: \"))\n",
        "if mark1 <= 95:\n",
        "  print(\"less than 98\")\n",
        "elif mark1 == 98:\n",
        "  print(\"equal to 98\")\n",
        "else:\n",
        "  print(\"greater than 98\")"
      ],
      "metadata": {
        "colab": {
          "base_uri": "https://localhost:8080/"
        },
        "id": "JWJ7eRtH9NwL",
        "outputId": "bd20047c-4d01-4d7a-e77d-5dcb11b67c30"
      },
      "execution_count": null,
      "outputs": [
        {
          "output_type": "stream",
          "name": "stdout",
          "text": [
            "enter your marks: 94\n",
            "less than 98\n"
          ]
        }
      ]
    },
    {
      "cell_type": "code",
      "source": [
        "age=int(input(\"enter your age: \"))\n",
        "if age <= 12:\n",
        "  print(\"child\")\n",
        "elif age <= 18:\n",
        "  print(\"teenage\")\n",
        "elif age <= 65:\n",
        "  print(\"adult\")\n",
        "else:\n",
        "  print(\"senior citizen\")"
      ],
      "metadata": {
        "colab": {
          "base_uri": "https://localhost:8080/"
        },
        "id": "aIQqZDXo9Nzj",
        "outputId": "04150c70-77d9-46e7-ef5c-b2b0cfe74612"
      },
      "execution_count": null,
      "outputs": [
        {
          "output_type": "stream",
          "name": "stdout",
          "text": [
            "enter your age: 23\n",
            "adult\n"
          ]
        }
      ]
    },
    {
      "cell_type": "code",
      "source": [
        "#nested if\n",
        "mark = int(input(\"enter you mark: \"))\n",
        "if mark >= 35:\n",
        "  if mark >= 75:\n",
        "    print(\"first class\")\n",
        "  else:\n",
        "    print(\"second class\")\n",
        "else:\n",
        "  print(\"fail\")"
      ],
      "metadata": {
        "colab": {
          "base_uri": "https://localhost:8080/"
        },
        "id": "uPM1wDrrMb7f",
        "outputId": "0312cda4-61b7-46bf-eb6a-95c2c0239509"
      },
      "execution_count": null,
      "outputs": [
        {
          "output_type": "stream",
          "name": "stdout",
          "text": [
            "enter you mark: 76\n",
            "first class\n"
          ]
        }
      ]
    },
    {
      "cell_type": "code",
      "source": [
        "age = int(input(\"enter you age: \"))\n",
        "if age >= 18:\n",
        "  if age >= 35:\n",
        "    print(\"Adult\")\n",
        "  else:\n",
        "    print(\"Teenage\")\n",
        "else:\n",
        "  print(\"Child\")"
      ],
      "metadata": {
        "colab": {
          "base_uri": "https://localhost:8080/"
        },
        "id": "-39lN15xMcIq",
        "outputId": "ec1ed93d-9628-4c7c-b257-4937e7e03eaf"
      },
      "execution_count": null,
      "outputs": [
        {
          "output_type": "stream",
          "name": "stdout",
          "text": [
            "enter you age: 65\n",
            "Adult\n"
          ]
        }
      ]
    },
    {
      "cell_type": "code",
      "source": [
        "a12=int(input(\"enter a number: \"))\n",
        "if a12 % 3==0 and a12 % 5==0:\n",
        "  print(\"divisible by 3 and 5\")\n",
        "else:\n",
        "  print(\"not divisible by 3 and 5\")"
      ],
      "metadata": {
        "colab": {
          "base_uri": "https://localhost:8080/"
        },
        "id": "Kx5XXuyP3VuX",
        "outputId": "de8dd96f-3a0d-4c4a-f974-0ba9acd4c04e"
      },
      "execution_count": null,
      "outputs": [
        {
          "output_type": "stream",
          "name": "stdout",
          "text": [
            "enter a number: 9\n",
            "not divisible by 3 and 5\n"
          ]
        }
      ]
    },
    {
      "cell_type": "code",
      "source": [
        "num=int(input(\"Enter a number: \"))\n",
        "if num % 2==0:\n",
        "  print(\"Even Number\")\n",
        "else:\n",
        "  print(\"Odd Number\")"
      ],
      "metadata": {
        "colab": {
          "base_uri": "https://localhost:8080/"
        },
        "id": "CTVNQVuo3WHF",
        "outputId": "64d53e40-0f90-47f8-d515-a02c6bc02c86"
      },
      "execution_count": null,
      "outputs": [
        {
          "output_type": "stream",
          "name": "stdout",
          "text": [
            "Enter a number: 3\n",
            "Odd Number\n"
          ]
        }
      ]
    },
    {
      "cell_type": "code",
      "source": [
        "num1=int(input(\"Enter a Number: \"))\n",
        "if num1 >=0:\n",
        "  if num1 % 2==0:\n",
        "    print(\"Even Number\")\n",
        "  else:\n",
        "    print(\"Odd Number\")\n",
        "else:\n",
        "  print(\"Negative Number\")"
      ],
      "metadata": {
        "colab": {
          "base_uri": "https://localhost:8080/"
        },
        "id": "F1Z6FM_Z3WKD",
        "outputId": "3943c02c-bbe6-41e0-855b-0c19ef0f8af6"
      },
      "execution_count": null,
      "outputs": [
        {
          "output_type": "stream",
          "name": "stdout",
          "text": [
            "Enter a Number: -9\n",
            "Negative Number\n"
          ]
        }
      ]
    },
    {
      "cell_type": "code",
      "source": [
        "#take 3 number as user input and find greatest of all three numbers\n",
        "a = int(input(\"enter a number: \"))\n",
        "b = int(input(\"enter a number: \"))\n",
        "c = int(input(\"enter a number: \"))\n",
        "if a > b and a > c:\n",
        "  print(\"a is greater\")\n",
        "elif b > a and b > c:\n",
        "  print(\"b is greater\")\n",
        "else:\n",
        "  print(\"c is greater\")"
      ],
      "metadata": {
        "colab": {
          "base_uri": "https://localhost:8080/"
        },
        "id": "wDHektGv3WM9",
        "outputId": "f92cd8d4-d7b6-467f-b108-77b88255b789"
      },
      "execution_count": null,
      "outputs": [
        {
          "output_type": "stream",
          "name": "stdout",
          "text": [
            "enter a number: 67\n",
            "enter a number: 65\n",
            "enter a number: 3\n",
            "a is greater\n"
          ]
        }
      ]
    },
    {
      "cell_type": "code",
      "source": [],
      "metadata": {
        "id": "F0T2n6qw3WQS"
      },
      "execution_count": null,
      "outputs": []
    },
    {
      "cell_type": "code",
      "source": [],
      "metadata": {
        "id": "Q3zBwVy63WWu"
      },
      "execution_count": null,
      "outputs": []
    }
  ]
}