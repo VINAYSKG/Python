{
  "nbformat": 4,
  "nbformat_minor": 0,
  "metadata": {
    "colab": {
      "provenance": [],
      "authorship_tag": "ABX9TyPeJKebG7NxHAW2nvn0Ym2p",
      "include_colab_link": true
    },
    "kernelspec": {
      "name": "python3",
      "display_name": "Python 3"
    },
    "language_info": {
      "name": "python"
    }
  },
  "cells": [
    {
      "cell_type": "markdown",
      "metadata": {
        "id": "view-in-github",
        "colab_type": "text"
      },
      "source": [
        "<a href=\"https://colab.research.google.com/github/VINAYSKG/Python/blob/main/Intro_python.ipynb\" target=\"_parent\"><img src=\"https://colab.research.google.com/assets/colab-badge.svg\" alt=\"Open In Colab\"/></a>"
      ]
    },
    {
      "cell_type": "code",
      "execution_count": null,
      "metadata": {
        "id": "5odD0hdQwvHN",
        "colab": {
          "base_uri": "https://localhost:8080/"
        },
        "outputId": "b5c50054-2b41-4acb-f85d-d2cfb42bef41"
      },
      "outputs": [
        {
          "output_type": "stream",
          "name": "stdout",
          "text": [
            "<class 'float'>\n",
            "<class 'str'>\n"
          ]
        }
      ],
      "source": [
        "#defining variables(single line comment)\n",
        "\"\"\"first variable is int (use double quotes triple times or single quote triple times for multiple line comment)\n",
        "second variable is string\n",
        "third variable is float\"\"\"\n",
        "a=10.5\n",
        "a1='Vinay'\n",
        "a2='202'\n",
        "print(type(a))\n",
        "print(type(a1))"
      ]
    },
    {
      "cell_type": "code",
      "source": [
        "#case sensitive\n",
        "NAME='Vinay'\n",
        "Name='Gupta'\n",
        "print(NAME)\n",
        "print(Name)"
      ],
      "metadata": {
        "id": "eLwRmoL-w_fw",
        "colab": {
          "base_uri": "https://localhost:8080/"
        },
        "outputId": "4c8df82b-26e5-46fa-f566-86afe68f3d84"
      },
      "execution_count": null,
      "outputs": [
        {
          "output_type": "stream",
          "name": "stdout",
          "text": [
            "Vinay\n",
            "Gupta\n"
          ]
        }
      ]
    },
    {
      "cell_type": "code",
      "source": [
        "a_21=True\n",
        "print(type(a_21))"
      ],
      "metadata": {
        "id": "aFtvo2SRw_jO",
        "colab": {
          "base_uri": "https://localhost:8080/"
        },
        "outputId": "9404ef91-10da-4ef7-8cff-e256ec09e61a"
      },
      "execution_count": null,
      "outputs": [
        {
          "output_type": "stream",
          "name": "stdout",
          "text": [
            "<class 'bool'>\n"
          ]
        }
      ]
    },
    {
      "cell_type": "code",
      "source": [
        "_qw='Vinay' #always start identifier with letter or _\n",
        "print(_qw)"
      ],
      "metadata": {
        "id": "Fd-n45R0w_ms",
        "colab": {
          "base_uri": "https://localhost:8080/"
        },
        "outputId": "2b35a330-1433-487f-c601-23f6c57d99b4"
      },
      "execution_count": null,
      "outputs": [
        {
          "output_type": "stream",
          "name": "stdout",
          "text": [
            "Vinay\n"
          ]
        }
      ]
    },
    {
      "cell_type": "code",
      "source": [
        "True=34 #never use keyword as identifiers\n",
        "print(True)"
      ],
      "metadata": {
        "id": "FaOavgnxw_ux",
        "colab": {
          "base_uri": "https://localhost:8080/",
          "height": 106
        },
        "outputId": "aca36ef7-8a71-4e9c-862a-47731293509f"
      },
      "execution_count": null,
      "outputs": [
        {
          "output_type": "error",
          "ename": "SyntaxError",
          "evalue": "cannot assign to True (ipython-input-16-3503406616.py, line 1)",
          "traceback": [
            "\u001b[0;36m  File \u001b[0;32m\"/tmp/ipython-input-16-3503406616.py\"\u001b[0;36m, line \u001b[0;32m1\u001b[0m\n\u001b[0;31m    True=34 #never use keyword as identifiers\u001b[0m\n\u001b[0m    ^\u001b[0m\n\u001b[0;31mSyntaxError\u001b[0m\u001b[0;31m:\u001b[0m cannot assign to True\n"
          ]
        }
      ]
    },
    {
      "cell_type": "code",
      "source": [
        "p=12;q=23;r=p+q\n",
        "print(r)"
      ],
      "metadata": {
        "id": "X9dg8K-6w_yL",
        "colab": {
          "base_uri": "https://localhost:8080/"
        },
        "outputId": "e11a1f60-4962-4557-d731-3eecac22b9b9"
      },
      "execution_count": null,
      "outputs": [
        {
          "output_type": "stream",
          "name": "stdout",
          "text": [
            "35\n"
          ]
        }
      ]
    },
    {
      "cell_type": "code",
      "source": [
        "#type casting (changing datatype of defined variable)\n",
        "\n",
        "\n",
        "w=34\n",
        "print(type(w))\n",
        "w1=float(w)\n",
        "print(type(w1))\n",
        "print(w1)\n"
      ],
      "metadata": {
        "colab": {
          "base_uri": "https://localhost:8080/"
        },
        "id": "Mhc4tvm0-n6l",
        "outputId": "44a5a608-5b11-4f2c-dd3d-07c28b4ce80f"
      },
      "execution_count": null,
      "outputs": [
        {
          "output_type": "stream",
          "name": "stdout",
          "text": [
            "<class 'int'>\n",
            "<class 'float'>\n",
            "34.0\n"
          ]
        }
      ]
    },
    {
      "cell_type": "code",
      "source": [
        "print(37 or 32)"
      ],
      "metadata": {
        "colab": {
          "base_uri": "https://localhost:8080/"
        },
        "id": "VCLuTj4iCtgw",
        "outputId": "38b9bb0b-7268-42a5-9b36-60c67a927d41"
      },
      "execution_count": null,
      "outputs": [
        {
          "output_type": "stream",
          "name": "stdout",
          "text": [
            "37\n"
          ]
        }
      ]
    }
  ]
}