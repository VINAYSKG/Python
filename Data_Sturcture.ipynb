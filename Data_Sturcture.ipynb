{
  "nbformat": 4,
  "nbformat_minor": 0,
  "metadata": {
    "colab": {
      "provenance": [],
      "authorship_tag": "ABX9TyP2UD8WfWZ/gAswqbvLDWL4",
      "include_colab_link": true
    },
    "kernelspec": {
      "name": "python3",
      "display_name": "Python 3"
    },
    "language_info": {
      "name": "python"
    }
  },
  "cells": [
    {
      "cell_type": "markdown",
      "metadata": {
        "id": "view-in-github",
        "colab_type": "text"
      },
      "source": [
        "<a href=\"https://colab.research.google.com/github/VINAYSKG/Python/blob/main/Data_Sturcture.ipynb\" target=\"_parent\"><img src=\"https://colab.research.google.com/assets/colab-badge.svg\" alt=\"Open In Colab\"/></a>"
      ]
    },
    {
      "cell_type": "code",
      "execution_count": null,
      "metadata": {
        "colab": {
          "base_uri": "https://localhost:8080/"
        },
        "id": "LYylwJttGk4x",
        "outputId": "56a9ef35-e4de-4e9b-ef23-5998cb9cd790"
      },
      "outputs": [
        {
          "output_type": "stream",
          "name": "stdout",
          "text": [
            "<class 'str'>\n",
            "<class 'str'>\n",
            "<class 'str'>\n"
          ]
        }
      ],
      "source": [
        "#String\n",
        "a='Vinay'\n",
        "a1=\"Vinay\"\n",
        "a2=\"\"\"Vinay\"\"\"\n",
        "print(type(a))\n",
        "print(type(a1))\n",
        "print(type(a2))"
      ]
    },
    {
      "cell_type": "code",
      "source": [
        "#String Indexing\n",
        "a=\"python\"\n",
        "print(a[1]) #positive indexing\n",
        "print(a[4]) #positive indexing\n",
        "print(a[-5]) #negative indexing\n"
      ],
      "metadata": {
        "colab": {
          "base_uri": "https://localhost:8080/"
        },
        "id": "_UqCjlt5Hgo4",
        "outputId": "9a9b9920-9b1f-4bdb-90d5-e0e3648e86a7"
      },
      "execution_count": null,
      "outputs": [
        {
          "output_type": "stream",
          "name": "stdout",
          "text": [
            "y\n",
            "o\n",
            "y\n"
          ]
        }
      ]
    },
    {
      "cell_type": "code",
      "source": [
        "#Concatnation\n",
        "a='python'\n",
        "b='program'\n",
        "print(a+b)\n",
        "print(a+\"_\"+b)\n",
        "print(a*4) # Repetation\n",
        "\n"
      ],
      "metadata": {
        "colab": {
          "base_uri": "https://localhost:8080/"
        },
        "id": "PCu-lgj8Hgrw",
        "outputId": "cc8d1c59-ffd7-405b-ef83-8e339c28eb62"
      },
      "execution_count": null,
      "outputs": [
        {
          "output_type": "stream",
          "name": "stdout",
          "text": [
            "pythonprogram\n",
            "python_program\n",
            "pythonpythonpythonpython\n"
          ]
        }
      ]
    },
    {
      "cell_type": "code",
      "source": [
        "# slicing Positive Indexing\n",
        "a='python'\n",
        "print(a[2:6])\n",
        "print(a[0:4:2])\n",
        "print(a[:4])\n",
        "print(a[1:])"
      ],
      "metadata": {
        "colab": {
          "base_uri": "https://localhost:8080/"
        },
        "id": "4LdnwCrTHgur",
        "outputId": "774883b8-5062-4509-cbb5-2ccb379c88b2"
      },
      "execution_count": null,
      "outputs": [
        {
          "output_type": "stream",
          "name": "stdout",
          "text": [
            "thon\n",
            "pt\n",
            "pyth\n",
            "ython\n"
          ]
        }
      ]
    },
    {
      "cell_type": "code",
      "source": [
        "#Slicing negative indexing\n",
        "a='python'\n",
        "print(a[-4:])\n",
        "print(a[ :-2])\n",
        "print(a[:-3])\n",
        "print(a[::-1])"
      ],
      "metadata": {
        "colab": {
          "base_uri": "https://localhost:8080/"
        },
        "id": "hrtswZKoHgxU",
        "outputId": "f9e438c5-114a-4b8d-e848-3160f4a008ad"
      },
      "execution_count": null,
      "outputs": [
        {
          "output_type": "stream",
          "name": "stdout",
          "text": [
            "thon\n",
            "pyth\n",
            "pyt\n",
            "nohtyp\n"
          ]
        }
      ]
    },
    {
      "cell_type": "code",
      "source": [
        "#Membership test\n",
        "a='python'\n",
        "print(\"p\" in a)\n",
        "print(\"p\" not in a)"
      ],
      "metadata": {
        "colab": {
          "base_uri": "https://localhost:8080/"
        },
        "id": "vqGb8voxHg0r",
        "outputId": "cff8012d-887e-4c60-bece-a25e40060350"
      },
      "execution_count": null,
      "outputs": [
        {
          "output_type": "stream",
          "name": "stdout",
          "text": [
            "True\n",
            "False\n"
          ]
        }
      ]
    },
    {
      "cell_type": "code",
      "source": [
        "a='python'\n",
        "print(a.upper())\n",
        "print(a.lower())\n",
        "print(a.title())\n",
        "print(a.capitalize())"
      ],
      "metadata": {
        "colab": {
          "base_uri": "https://localhost:8080/"
        },
        "id": "ka6eUQXJVg21",
        "outputId": "abace731-4953-4ab8-e2d0-690ba347428b"
      },
      "execution_count": null,
      "outputs": [
        {
          "output_type": "stream",
          "name": "stdout",
          "text": [
            "PYTHON\n",
            "python\n",
            "Python\n",
            "Python\n"
          ]
        }
      ]
    },
    {
      "cell_type": "code",
      "source": [
        "#string Parctially mutable\n",
        "a='python'\n",
        "print(a.replace('python','java')) # Replace function\n",
        "a.replace('python','java')\n",
        "print(a)"
      ],
      "metadata": {
        "colab": {
          "base_uri": "https://localhost:8080/"
        },
        "id": "6UAo0_mvVg5j",
        "outputId": "26c59471-cf5e-40d0-8aeb-4f7e233a0e4d"
      },
      "execution_count": null,
      "outputs": [
        {
          "output_type": "stream",
          "name": "stdout",
          "text": [
            "java\n",
            "python\n"
          ]
        }
      ]
    },
    {
      "cell_type": "code",
      "source": [
        "#finding count of word\n",
        "a='apple'\n",
        "print(a.count('p'))\n"
      ],
      "metadata": {
        "id": "NdmXZbiLVg8R",
        "colab": {
          "base_uri": "https://localhost:8080/"
        },
        "outputId": "4d1c358a-dda8-4ee6-9b73-4138e1753d9c"
      },
      "execution_count": null,
      "outputs": [
        {
          "output_type": "stream",
          "name": "stdout",
          "text": [
            "2\n"
          ]
        }
      ]
    },
    {
      "cell_type": "code",
      "source": [
        "#finding postion\n",
        "a=\"python\"\n",
        "print(\"python\".find(\"r\"))"
      ],
      "metadata": {
        "colab": {
          "base_uri": "https://localhost:8080/"
        },
        "id": "Sxg8auCjYYYF",
        "outputId": "cfa4bb5f-844a-484a-9ff1-8d191cfff856"
      },
      "execution_count": null,
      "outputs": [
        {
          "output_type": "stream",
          "name": "stdout",
          "text": [
            "-1\n"
          ]
        }
      ]
    },
    {
      "cell_type": "code",
      "source": [
        "#String lenght\n",
        "a ='python'\n",
        "print(len(a))"
      ],
      "metadata": {
        "colab": {
          "base_uri": "https://localhost:8080/"
        },
        "id": "VbWboIAOYYa2",
        "outputId": "fe67536b-f3cc-4ead-bca0-5872afa89d04"
      },
      "execution_count": null,
      "outputs": [
        {
          "output_type": "stream",
          "name": "stdout",
          "text": [
            "6\n"
          ]
        }
      ]
    },
    {
      "cell_type": "code",
      "source": [
        "a=input(\"Enter your mail id\")\n",
        "if \"@\" in a and \".\" in a:\n",
        "  print(\"vaild mail\")\n",
        "else:\n",
        "  print(\"invaild mail\")"
      ],
      "metadata": {
        "colab": {
          "base_uri": "https://localhost:8080/"
        },
        "id": "-O0rcD-rYYde",
        "outputId": "609277bd-6626-44c8-86b3-a820fb26f6f5"
      },
      "execution_count": null,
      "outputs": [
        {
          "output_type": "stream",
          "name": "stdout",
          "text": [
            "Enter your mail idvg768662@gmai.com\n",
            "vaild mail\n"
          ]
        }
      ]
    },
    {
      "cell_type": "code",
      "source": [
        "a=input(\"Enter your mobile no.\")\n",
        "if len(a)==10:\n",
        "  print(\"vaild\")\n",
        "else:\n",
        "  print(\"invaild\")"
      ],
      "metadata": {
        "colab": {
          "base_uri": "https://localhost:8080/"
        },
        "id": "u1leROG6YYf_",
        "outputId": "a44dc625-ef60-44f4-c780-798709483c3f"
      },
      "execution_count": null,
      "outputs": [
        {
          "output_type": "stream",
          "name": "stdout",
          "text": [
            "Enter your mobile no.45\n",
            "invaild\n"
          ]
        }
      ]
    },
    {
      "cell_type": "code",
      "source": [
        "#list Indexing\n",
        "a34=[\"vinay\",123,21.32,\"gupta\"]\n",
        "b34=list(range(5))\n",
        "print(a34[0])\n",
        "print(a34[0][1:4])# list slicing positive\n",
        "print(a34[0][-4: ]) # list slicing Negative"
      ],
      "metadata": {
        "colab": {
          "base_uri": "https://localhost:8080/"
        },
        "id": "4eX1i53oYYjX",
        "outputId": "604e49c6-7ad0-4754-ede3-fef412f9a9c7"
      },
      "execution_count": null,
      "outputs": [
        {
          "output_type": "stream",
          "name": "stdout",
          "text": [
            "vinay\n",
            "ina\n",
            "inay\n"
          ]
        }
      ]
    },
    {
      "cell_type": "code",
      "source": [
        "a34=[\"vinay\",123,21.32,\"gupta\"]\n",
        "print(a34[ :3])\n",
        "print(a34[1:3])"
      ],
      "metadata": {
        "id": "VuPQRW8yVg_n",
        "colab": {
          "base_uri": "https://localhost:8080/"
        },
        "outputId": "e3788ba0-2de0-457c-ad40-3d7643191d47"
      },
      "execution_count": null,
      "outputs": [
        {
          "output_type": "stream",
          "name": "stdout",
          "text": [
            "['vinay', 123, 21.32]\n",
            "[123, 21.32]\n"
          ]
        }
      ]
    }
  ]
}