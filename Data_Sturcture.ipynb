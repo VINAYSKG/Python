{
  "nbformat": 4,
  "nbformat_minor": 0,
  "metadata": {
    "colab": {
      "provenance": [],
      "authorship_tag": "ABX9TyO+NhRmj6UYUJYJTpAnQh6C",
      "include_colab_link": true
    },
    "kernelspec": {
      "name": "python3",
      "display_name": "Python 3"
    },
    "language_info": {
      "name": "python"
    }
  },
  "cells": [
    {
      "cell_type": "markdown",
      "metadata": {
        "id": "view-in-github",
        "colab_type": "text"
      },
      "source": [
        "<a href=\"https://colab.research.google.com/github/VINAYSKG/Python/blob/main/Data_Sturcture.ipynb\" target=\"_parent\"><img src=\"https://colab.research.google.com/assets/colab-badge.svg\" alt=\"Open In Colab\"/></a>"
      ]
    },
    {
      "cell_type": "code",
      "execution_count": null,
      "metadata": {
        "colab": {
          "base_uri": "https://localhost:8080/"
        },
        "id": "LYylwJttGk4x",
        "outputId": "40af819e-f75c-4659-d3db-06574ec6c60e"
      },
      "outputs": [
        {
          "output_type": "stream",
          "name": "stdout",
          "text": [
            "<class 'str'>\n",
            "<class 'str'>\n",
            "<class 'str'>\n"
          ]
        }
      ],
      "source": [
        "#String\n",
        "a='Vinay'\n",
        "a1=\"Vinay\"\n",
        "a2=\"\"\"Vinay\"\"\"\n",
        "print(type(a))\n",
        "print(type(a1))\n",
        "print(type(a2))"
      ]
    },
    {
      "cell_type": "code",
      "source": [
        "#String Indexing\n",
        "a=\"python\"\n",
        "print(a[1]) #positive indexing\n",
        "print(a[4]) #positive indexing\n",
        "print(a[-5]) #negative indexing\n"
      ],
      "metadata": {
        "colab": {
          "base_uri": "https://localhost:8080/"
        },
        "id": "_UqCjlt5Hgo4",
        "outputId": "bc927e67-b3ba-4565-f3e2-752762dd5fb2"
      },
      "execution_count": null,
      "outputs": [
        {
          "output_type": "stream",
          "name": "stdout",
          "text": [
            "y\n",
            "o\n",
            "y\n"
          ]
        }
      ]
    },
    {
      "cell_type": "code",
      "source": [
        "#Concatnation\n",
        "a='python'\n",
        "b='program'\n",
        "print(a+b)\n",
        "print(a+\"_\"+b)\n",
        "print(a*4) # Repetation\n",
        "\n"
      ],
      "metadata": {
        "colab": {
          "base_uri": "https://localhost:8080/"
        },
        "id": "PCu-lgj8Hgrw",
        "outputId": "0fd81c07-7524-4304-f3fc-b927b7b776d8"
      },
      "execution_count": null,
      "outputs": [
        {
          "output_type": "stream",
          "name": "stdout",
          "text": [
            "pythonprogram\n",
            "python_program\n",
            "pythonpythonpythonpython\n"
          ]
        }
      ]
    },
    {
      "cell_type": "code",
      "source": [
        "# slicing Positive Indexing\n",
        "a='python'\n",
        "print(a[2:6])\n",
        "print(a[0:4:2])\n",
        "print(a[:4])\n",
        "print(a[1:])"
      ],
      "metadata": {
        "colab": {
          "base_uri": "https://localhost:8080/"
        },
        "id": "4LdnwCrTHgur",
        "outputId": "1743026f-2080-418c-ef63-0d91743eb855"
      },
      "execution_count": null,
      "outputs": [
        {
          "output_type": "stream",
          "name": "stdout",
          "text": [
            "thon\n",
            "pt\n",
            "pyth\n",
            "ython\n"
          ]
        }
      ]
    },
    {
      "cell_type": "code",
      "source": [
        "#Slicing negative indexing\n",
        "a='python'\n",
        "print(a[-4:])\n",
        "print(a[ :-2])\n",
        "print(a[:-3])\n",
        "print(a[::-1])"
      ],
      "metadata": {
        "colab": {
          "base_uri": "https://localhost:8080/"
        },
        "id": "hrtswZKoHgxU",
        "outputId": "e35ad0fe-364e-4da4-8411-6e54e4faf86e"
      },
      "execution_count": null,
      "outputs": [
        {
          "output_type": "stream",
          "name": "stdout",
          "text": [
            "thon\n",
            "pyth\n",
            "pyt\n",
            "nohtyp\n"
          ]
        }
      ]
    },
    {
      "cell_type": "code",
      "source": [
        "#Membership test\n",
        "a='python'\n",
        "print(\"p\" in a)\n",
        "print(\"p\" not in a)"
      ],
      "metadata": {
        "colab": {
          "base_uri": "https://localhost:8080/"
        },
        "id": "vqGb8voxHg0r",
        "outputId": "4d4fa8c9-7938-42f2-dc99-724caad65455"
      },
      "execution_count": null,
      "outputs": [
        {
          "output_type": "stream",
          "name": "stdout",
          "text": [
            "True\n",
            "False\n"
          ]
        }
      ]
    },
    {
      "cell_type": "code",
      "source": [
        "a='python'\n",
        "print(a.upper())\n",
        "print(a.lower())\n",
        "print(a.title())\n",
        "print(a.capitalize())"
      ],
      "metadata": {
        "colab": {
          "base_uri": "https://localhost:8080/"
        },
        "id": "ka6eUQXJVg21",
        "outputId": "1d1bfedf-ec23-492a-e33f-7b855ac7e093"
      },
      "execution_count": null,
      "outputs": [
        {
          "output_type": "stream",
          "name": "stdout",
          "text": [
            "PYTHON\n",
            "python\n",
            "Python\n",
            "Python\n"
          ]
        }
      ]
    },
    {
      "cell_type": "code",
      "source": [
        "#string Parctially mutable\n",
        "a='python'\n",
        "print(a.replace('python','java')) # Replace function\n",
        "a.replace('python','java')\n",
        "print(a)"
      ],
      "metadata": {
        "colab": {
          "base_uri": "https://localhost:8080/"
        },
        "id": "6UAo0_mvVg5j",
        "outputId": "d86cc9fc-5878-4aaa-8c8e-a0d2476b0d07"
      },
      "execution_count": null,
      "outputs": [
        {
          "output_type": "stream",
          "name": "stdout",
          "text": [
            "java\n",
            "python\n"
          ]
        }
      ]
    },
    {
      "cell_type": "code",
      "source": [
        "#finding count of word\n",
        "a='apple'\n",
        "print(a.count('p'))\n"
      ],
      "metadata": {
        "id": "NdmXZbiLVg8R",
        "colab": {
          "base_uri": "https://localhost:8080/"
        },
        "outputId": "f8ade750-cd6d-4760-b677-dfff622e26c5"
      },
      "execution_count": null,
      "outputs": [
        {
          "output_type": "stream",
          "name": "stdout",
          "text": [
            "2\n"
          ]
        }
      ]
    },
    {
      "cell_type": "code",
      "source": [
        "#finding postion\n",
        "a=\"python\"\n",
        "print(\"python\".find(\"r\"))"
      ],
      "metadata": {
        "colab": {
          "base_uri": "https://localhost:8080/"
        },
        "id": "Sxg8auCjYYYF",
        "outputId": "0dc4a69c-9aea-4b7d-a5d5-3c5b298185b6"
      },
      "execution_count": null,
      "outputs": [
        {
          "output_type": "stream",
          "name": "stdout",
          "text": [
            "-1\n"
          ]
        }
      ]
    },
    {
      "cell_type": "code",
      "source": [
        "#String lenght\n",
        "a ='python'\n",
        "print(len(a))"
      ],
      "metadata": {
        "colab": {
          "base_uri": "https://localhost:8080/"
        },
        "id": "VbWboIAOYYa2",
        "outputId": "b291889e-1f57-4220-c1da-4713ecaf76df"
      },
      "execution_count": null,
      "outputs": [
        {
          "output_type": "stream",
          "name": "stdout",
          "text": [
            "6\n"
          ]
        }
      ]
    },
    {
      "cell_type": "code",
      "source": [
        "a=input(\"Enter your mail id\")\n",
        "if \"@\" in a and \".\" in a:\n",
        "  print(\"vaild mail\")\n",
        "else:\n",
        "  print(\"invaild mail\")"
      ],
      "metadata": {
        "colab": {
          "base_uri": "https://localhost:8080/"
        },
        "id": "-O0rcD-rYYde",
        "outputId": "2a52c2b3-9c7a-434b-fe95-65debad3d35c"
      },
      "execution_count": null,
      "outputs": [
        {
          "output_type": "stream",
          "name": "stdout",
          "text": [
            "Enter your mail idacd\n",
            "invaild mail\n"
          ]
        }
      ]
    },
    {
      "cell_type": "code",
      "source": [
        "a=input(\"Enter your mobile no.\")\n",
        "if len(a)==10:\n",
        "  print(\"vaild\")\n",
        "else:\n",
        "  print(\"invaild\")"
      ],
      "metadata": {
        "colab": {
          "base_uri": "https://localhost:8080/"
        },
        "id": "u1leROG6YYf_",
        "outputId": "c92ff31e-ce4b-4098-b9b9-b1b183ab0e5f"
      },
      "execution_count": null,
      "outputs": [
        {
          "output_type": "stream",
          "name": "stdout",
          "text": [
            "Enter your mobile no.124\n",
            "invaild\n"
          ]
        }
      ]
    },
    {
      "cell_type": "code",
      "source": [
        "#list Indexing\n",
        "a34=[\"vinay\",123,21.32,\"gupta\"]\n",
        "b34=list(range(5))\n",
        "print(a34[0])\n",
        "print(a34[0][1:4])# list slicing positive\n",
        "print(a34[0][-4: ]) # list slicing Negative"
      ],
      "metadata": {
        "colab": {
          "base_uri": "https://localhost:8080/"
        },
        "id": "4eX1i53oYYjX",
        "outputId": "b347dfe8-20c3-4bed-ced2-2b5118f2c1a8"
      },
      "execution_count": null,
      "outputs": [
        {
          "output_type": "stream",
          "name": "stdout",
          "text": [
            "vinay\n",
            "ina\n",
            "inay\n"
          ]
        }
      ]
    },
    {
      "cell_type": "code",
      "source": [
        "a34=[\"vinay\",123,21.32,\"gupta\"]\n",
        "print(a34[ :3])\n",
        "print(a34[1:3])"
      ],
      "metadata": {
        "id": "VuPQRW8yVg_n",
        "colab": {
          "base_uri": "https://localhost:8080/"
        },
        "outputId": "e4b4c2e8-fca5-41e4-b6cd-f9776642a81f"
      },
      "execution_count": null,
      "outputs": [
        {
          "output_type": "stream",
          "name": "stdout",
          "text": [
            "['vinay', 123, 21.32]\n",
            "[123, 21.32]\n"
          ]
        }
      ]
    },
    {
      "cell_type": "code",
      "source": [
        "a34=[\"vinay\",123,21.32,\"gupta\"]\n",
        "#a34[0][1:3]=\"j\"\n",
        "#print(a34) #string is immutable\n",
        "a34[0]=\"sonu\"\n",
        "print(a34)"
      ],
      "metadata": {
        "colab": {
          "base_uri": "https://localhost:8080/"
        },
        "id": "EjvPnvGfWjIE",
        "outputId": "0bb773ef-0f89-45e1-a903-6bc7f1a51992"
      },
      "execution_count": null,
      "outputs": [
        {
          "output_type": "stream",
          "name": "stdout",
          "text": [
            "['sonu', 123, 21.32, 'gupta']\n"
          ]
        }
      ]
    },
    {
      "cell_type": "code",
      "source": [
        "b=list(range(5))\n",
        "print(b)\n",
        "for i in b:\n",
        "  print(i*i)"
      ],
      "metadata": {
        "colab": {
          "base_uri": "https://localhost:8080/"
        },
        "id": "DcFcqFTnWjYW",
        "outputId": "be182901-abc7-4913-c427-3a76c88390cb"
      },
      "execution_count": null,
      "outputs": [
        {
          "output_type": "stream",
          "name": "stdout",
          "text": [
            "[0, 1, 2, 3, 4]\n",
            "0\n",
            "1\n",
            "4\n",
            "9\n",
            "16\n"
          ]
        }
      ]
    },
    {
      "cell_type": "code",
      "source": [
        "d = list(range(2,21))\n",
        "for i in d:\n",
        "  if i%2 ==0:\n",
        "    print(i)"
      ],
      "metadata": {
        "colab": {
          "base_uri": "https://localhost:8080/"
        },
        "id": "CoofPNilfgqR",
        "outputId": "333d9cb5-27c5-401f-ddb2-8030e83a7dd5"
      },
      "execution_count": null,
      "outputs": [
        {
          "output_type": "stream",
          "name": "stdout",
          "text": [
            "2\n",
            "4\n",
            "6\n",
            "8\n",
            "10\n",
            "12\n",
            "14\n",
            "16\n",
            "18\n",
            "20\n"
          ]
        }
      ]
    },
    {
      "cell_type": "code",
      "source": [
        "#add the name at end (golong)\n",
        "l2=[\"python\",\"java\",\"c\",\"c++\"]\n",
        "l2.append('golong')\n",
        "print(l2)"
      ],
      "metadata": {
        "colab": {
          "base_uri": "https://localhost:8080/"
        },
        "id": "NuyYELRIWjhs",
        "outputId": "c5497dda-90ff-4407-a918-1d0a5481803c"
      },
      "execution_count": null,
      "outputs": [
        {
          "output_type": "stream",
          "name": "stdout",
          "text": [
            "['python', 'java', 'c', 'c++', 'golong']\n"
          ]
        }
      ]
    },
    {
      "cell_type": "code",
      "source": [
        "#add the name at middel postion (swift)\n",
        "l2=[\"python\",\"java\",\"c\",\"c++\"]\n",
        "l2.insert(2,'swift')\n",
        "print(l2)"
      ],
      "metadata": {
        "colab": {
          "base_uri": "https://localhost:8080/"
        },
        "id": "aC6sSr8OWjpg",
        "outputId": "09d090c0-7c71-4fdd-c50e-4d0817a80d5a"
      },
      "execution_count": null,
      "outputs": [
        {
          "output_type": "stream",
          "name": "stdout",
          "text": [
            "['python', 'java', 'swift', 'c', 'c++']\n"
          ]
        }
      ]
    },
    {
      "cell_type": "code",
      "source": [
        "#insert (ruby) in a even number by indexing\n",
        "d=[\"python\",\"java\",\"c\",\"c++\"]\n",
        "for i in range (len(d)+2):\n",
        "  if i%2 ==0:\n",
        "    d.insert(i+2,\"ruby\")\n",
        "print(d)"
      ],
      "metadata": {
        "colab": {
          "base_uri": "https://localhost:8080/"
        },
        "id": "R7GVEGODioqj",
        "outputId": "0d68fbcf-921d-40b1-8551-326b74f57949"
      },
      "execution_count": null,
      "outputs": [
        {
          "output_type": "stream",
          "name": "stdout",
          "text": [
            "['python', 'java', 'ruby', 'c', 'ruby', 'c++', 'ruby']\n"
          ]
        }
      ]
    },
    {
      "cell_type": "code",
      "source": [
        "#Remove function in list\n",
        "a=['apple',1,2.7,'cherry']\n",
        "a.remove('cherry')\n",
        "a.remove(2.7)\n",
        "print(a)"
      ],
      "metadata": {
        "colab": {
          "base_uri": "https://localhost:8080/"
        },
        "id": "RetH485miotq",
        "outputId": "3911592a-9e06-4d14-f8f5-6fb7835107fc"
      },
      "execution_count": null,
      "outputs": [
        {
          "output_type": "stream",
          "name": "stdout",
          "text": [
            "['apple', 1]\n"
          ]
        }
      ]
    },
    {
      "cell_type": "code",
      "source": [
        "#pop function in use index only\n",
        "a=['apple',1,2.7,'cherry']\n",
        "a.pop() # last\n",
        "print(a)"
      ],
      "metadata": {
        "colab": {
          "base_uri": "https://localhost:8080/"
        },
        "id": "CcUQC1MOrDXB",
        "outputId": "0901ee55-6385-468a-9206-87379b55320d"
      },
      "execution_count": 79,
      "outputs": [
        {
          "output_type": "stream",
          "name": "stdout",
          "text": [
            "['apple', 1, 2.7]\n"
          ]
        }
      ]
    },
    {
      "cell_type": "code",
      "source": [
        "#sort function use in list and cannot use in mixed list\n",
        "a=[1,3,5,4,2]\n",
        "a.sort()\n",
        "print(a)"
      ],
      "metadata": {
        "id": "E-7PRwyXrDZ0",
        "colab": {
          "base_uri": "https://localhost:8080/"
        },
        "outputId": "18882bed-3e75-4543-86ba-f9686dc3cccc"
      },
      "execution_count": 80,
      "outputs": [
        {
          "output_type": "stream",
          "name": "stdout",
          "text": [
            "[1, 2, 3, 4, 5]\n"
          ]
        }
      ]
    },
    {
      "cell_type": "code",
      "source": [
        "#list function used to reverse list\n",
        "a=[1,2,3,4,5]\n",
        "a.reverse()\n",
        "print(a)"
      ],
      "metadata": {
        "id": "-dl-A8RFrDdM",
        "colab": {
          "base_uri": "https://localhost:8080/"
        },
        "outputId": "035c5cc0-5659-44a3-9a39-357325ab9e72"
      },
      "execution_count": 83,
      "outputs": [
        {
          "output_type": "stream",
          "name": "stdout",
          "text": [
            "[5, 4, 3, 2, 1]\n"
          ]
        }
      ]
    },
    {
      "cell_type": "code",
      "source": [
        "#list comperhension\n",
        "a=[i for i in range(5)]\n",
        "print(a)"
      ],
      "metadata": {
        "id": "n8hUbdo3ioxD",
        "colab": {
          "base_uri": "https://localhost:8080/"
        },
        "outputId": "46793a26-5c76-41de-9a07-f72d5fe7d914"
      },
      "execution_count": 87,
      "outputs": [
        {
          "output_type": "stream",
          "name": "stdout",
          "text": [
            "[0, 1, 2, 3, 4]\n"
          ]
        }
      ]
    },
    {
      "cell_type": "code",
      "source": [
        "a=[x*x for x in range(10)]\n",
        "print(a)"
      ],
      "metadata": {
        "colab": {
          "base_uri": "https://localhost:8080/"
        },
        "id": "Zti_otB6vZmn",
        "outputId": "eaaf8479-599d-4bb5-eea4-a7fcacddf8c5"
      },
      "execution_count": 91,
      "outputs": [
        {
          "output_type": "stream",
          "name": "stdout",
          "text": [
            "[0, 1, 4, 9, 16, 25, 36, 49, 64, 81]\n"
          ]
        }
      ]
    },
    {
      "cell_type": "code",
      "source": [
        "a=[x for x in range(21)if x%2!=0]\n",
        "print(a)"
      ],
      "metadata": {
        "colab": {
          "base_uri": "https://localhost:8080/"
        },
        "id": "_20GlJh4todh",
        "outputId": "b5b3780a-5276-4b1e-b000-3d9786b6ef23"
      },
      "execution_count": 90,
      "outputs": [
        {
          "output_type": "stream",
          "name": "stdout",
          "text": [
            "[1, 3, 5, 7, 9, 11, 13, 15, 17, 19]\n"
          ]
        }
      ]
    },
    {
      "cell_type": "code",
      "source": [],
      "metadata": {
        "id": "_bOeQQb-tog6"
      },
      "execution_count": null,
      "outputs": []
    },
    {
      "cell_type": "code",
      "source": [],
      "metadata": {
        "id": "OV3fyRIHtokS"
      },
      "execution_count": null,
      "outputs": []
    }
  ]
}